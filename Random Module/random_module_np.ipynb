{
 "cells": [
  {
   "cell_type": "code",
   "execution_count": 110,
   "id": "49e9495d",
   "metadata": {},
   "outputs": [],
   "source": [
    "import numpy as np"
   ]
  },
  {
   "cell_type": "markdown",
   "id": "4e950672",
   "metadata": {},
   "source": [
    "integers"
   ]
  },
  {
   "cell_type": "code",
   "execution_count": 111,
   "id": "18410c33",
   "metadata": {},
   "outputs": [
    {
     "data": {
      "text/plain": [
       "9"
      ]
     },
     "execution_count": 111,
     "metadata": {},
     "output_type": "execute_result"
    }
   ],
   "source": [
    "np.random.randint(10)"
   ]
  },
  {
   "cell_type": "code",
   "execution_count": 112,
   "id": "fe28706c",
   "metadata": {},
   "outputs": [
    {
     "data": {
      "text/plain": [
       "array([2, 3], dtype=int32)"
      ]
     },
     "execution_count": 112,
     "metadata": {},
     "output_type": "execute_result"
    }
   ],
   "source": [
    "np.random.randint(10,size=2)"
   ]
  },
  {
   "cell_type": "code",
   "execution_count": 126,
   "id": "cd6336ae",
   "metadata": {},
   "outputs": [
    {
     "data": {
      "text/plain": [
       "array([-95,  21,  91,  21,  -4, -51,  61, -28,  41, -88, -37,   3, -97,\n",
       "        59,  19,  17,  75,  53,  55,  -8], dtype=int32)"
      ]
     },
     "execution_count": 126,
     "metadata": {},
     "output_type": "execute_result"
    }
   ],
   "source": [
    "x = np.random.randint(-100,100,size=20)\n",
    "x"
   ]
  },
  {
   "cell_type": "markdown",
   "id": "639016c0",
   "metadata": {},
   "source": [
    "float"
   ]
  },
  {
   "cell_type": "code",
   "execution_count": 114,
   "id": "5887a422",
   "metadata": {},
   "outputs": [
    {
     "data": {
      "text/plain": [
       "array([0.06286854, 0.74938671, 0.45328172, 0.65542077, 0.70063586,\n",
       "       0.18461175, 0.61854522, 0.45099077, 0.51158218, 0.59275197])"
      ]
     },
     "execution_count": 114,
     "metadata": {},
     "output_type": "execute_result"
    }
   ],
   "source": [
    "#0 to 1\n",
    "np.random.rand(10)"
   ]
  },
  {
   "cell_type": "code",
   "execution_count": 115,
   "id": "a73b494a",
   "metadata": {},
   "outputs": [
    {
     "data": {
      "text/plain": [
       "array([0.78567183, 0.12497904, 0.40998958, 0.57508709, 0.2906392 ,\n",
       "       0.30061861, 0.85066797, 0.7067589 , 0.4246327 , 0.77662763])"
      ]
     },
     "execution_count": 115,
     "metadata": {},
     "output_type": "execute_result"
    }
   ],
   "source": [
    "np.random.random(10)"
   ]
  },
  {
   "cell_type": "code",
   "execution_count": 116,
   "id": "8337c717",
   "metadata": {},
   "outputs": [
    {
     "data": {
      "text/plain": [
       "array([[[0.77021276, 0.73939351, 0.80199254, 0.07480627, 0.04880528],\n",
       "        [0.70495772, 0.61139422, 0.23149673, 0.91688507, 0.37609936],\n",
       "        [0.60263863, 0.15820855, 0.2866209 , 0.41534921, 0.54617993],\n",
       "        [0.19845442, 0.82321178, 0.91282003, 0.71317724, 0.56103202],\n",
       "        [0.60638961, 0.58688282, 0.54228322, 0.05761304, 0.74749486],\n",
       "        [0.05279795, 0.6464764 , 0.36504382, 0.47096553, 0.0524593 ]],\n",
       "\n",
       "       [[0.90523849, 0.96701984, 0.20281897, 0.88106428, 0.81256809],\n",
       "        [0.14022844, 0.97043474, 0.26720658, 0.47001263, 0.07180459],\n",
       "        [0.12589998, 0.27844573, 0.76029597, 0.40768246, 0.36235794],\n",
       "        [0.23593632, 0.66260396, 0.65046572, 0.41191284, 0.27242236],\n",
       "        [0.01378276, 0.30509355, 0.51941236, 0.92401575, 0.89943455],\n",
       "        [0.11199057, 0.99781005, 0.85465328, 0.13478093, 0.09288772]],\n",
       "\n",
       "       [[0.55071222, 0.05540418, 0.43596728, 0.05224719, 0.42183329],\n",
       "        [0.31146404, 0.89000191, 0.30143801, 0.69461205, 0.15079464],\n",
       "        [0.51495946, 0.67494879, 0.35369129, 0.65139231, 0.92656906],\n",
       "        [0.11588346, 0.89768991, 0.01332975, 0.79714405, 0.47946313],\n",
       "        [0.26628568, 0.7789087 , 0.99737712, 0.78652044, 0.01361471],\n",
       "        [0.368604  , 0.46332609, 0.14280263, 0.46134333, 0.6728083 ]],\n",
       "\n",
       "       [[0.20683951, 0.48793241, 0.99873025, 0.27604655, 0.74475785],\n",
       "        [0.6021617 , 0.78900572, 0.69333781, 0.63844319, 0.97522558],\n",
       "        [0.67337446, 0.59410225, 0.10550851, 0.87252725, 0.35697365],\n",
       "        [0.81693058, 0.3630612 , 0.66650416, 0.55974794, 0.8148733 ],\n",
       "        [0.15614401, 0.04823192, 0.87948236, 0.62335132, 0.29284143],\n",
       "        [0.40535427, 0.96668459, 0.90919091, 0.00683674, 0.47606185]],\n",
       "\n",
       "       [[0.41704208, 0.44158639, 0.79167689, 0.32720966, 0.12117152],\n",
       "        [0.767571  , 0.0800998 , 0.20723359, 0.66984167, 0.09712884],\n",
       "        [0.10373508, 0.3118708 , 0.93587721, 0.86458188, 0.02458647],\n",
       "        [0.77206989, 0.91307441, 0.24456402, 0.48245487, 0.44849986],\n",
       "        [0.40932288, 0.14198982, 0.97133259, 0.80031064, 0.40265649],\n",
       "        [0.59701031, 0.82389013, 0.50658324, 0.66578275, 0.74099736]]])"
      ]
     },
     "execution_count": 116,
     "metadata": {},
     "output_type": "execute_result"
    }
   ],
   "source": [
    "np.random.rand(5,6,5)#size"
   ]
  },
  {
   "cell_type": "code",
   "execution_count": 117,
   "id": "91e1cefc",
   "metadata": {},
   "outputs": [
    {
     "data": {
      "text/plain": [
       "array([[ 8.3489496 ,  2.62855847],\n",
       "       [-1.62083418,  9.86558314]])"
      ]
     },
     "execution_count": 117,
     "metadata": {},
     "output_type": "execute_result"
    }
   ],
   "source": [
    "np.random.uniform(-10,10,size=(2,2))"
   ]
  },
  {
   "cell_type": "markdown",
   "id": "ddc7ac77",
   "metadata": {},
   "source": [
    "normal distribution"
   ]
  },
  {
   "cell_type": "code",
   "execution_count": 118,
   "id": "e97d963c",
   "metadata": {},
   "outputs": [
    {
     "data": {
      "text/plain": [
       "array([[-0.83277044,  0.5139807 ]])"
      ]
     },
     "execution_count": 118,
     "metadata": {},
     "output_type": "execute_result"
    }
   ],
   "source": [
    "np.random.randn(1,2)"
   ]
  },
  {
   "cell_type": "code",
   "execution_count": 119,
   "id": "ef8f1729",
   "metadata": {},
   "outputs": [
    {
     "data": {
      "text/plain": [
       "array([5.14657269, 1.75101216, 8.94927426, 2.74462481, 2.65003681,\n",
       "       3.11225273, 4.18121043, 5.58318941, 9.58525632, 7.27876798])"
      ]
     },
     "execution_count": 119,
     "metadata": {},
     "output_type": "execute_result"
    }
   ],
   "source": [
    "np.random.normal(loc=5,scale= 3,size= 10)"
   ]
  },
  {
   "cell_type": "markdown",
   "id": "edf625c5",
   "metadata": {},
   "source": [
    "from list choosing one"
   ]
  },
  {
   "cell_type": "code",
   "execution_count": 120,
   "id": "cf20b1f1",
   "metadata": {},
   "outputs": [
    {
     "data": {
      "text/plain": [
       "array(['apple', 'banana'], dtype='<U6')"
      ]
     },
     "execution_count": 120,
     "metadata": {},
     "output_type": "execute_result"
    }
   ],
   "source": [
    "np.random.choice(['apple', 'banana', 'cherry'], size=2)\n"
   ]
  },
  {
   "cell_type": "code",
   "execution_count": 121,
   "id": "c9e9d178",
   "metadata": {},
   "outputs": [
    {
     "data": {
      "text/plain": [
       "array(['apple', 'apple'], dtype='<U6')"
      ]
     },
     "execution_count": 121,
     "metadata": {},
     "output_type": "execute_result"
    }
   ],
   "source": [
    "np.random.choice(['apple', 'banana', 'cherry'], size=2,replace=True)"
   ]
  },
  {
   "cell_type": "code",
   "execution_count": 122,
   "id": "d9c98542",
   "metadata": {},
   "outputs": [
    {
     "data": {
      "text/plain": [
       "array(['cherry', 'cherry'], dtype='<U6')"
      ]
     },
     "execution_count": 122,
     "metadata": {},
     "output_type": "execute_result"
    }
   ],
   "source": [
    "np.random.choice(['apple', 'banana', 'cherry'], size=2,replace=True,p=[0.2,0.2,0.6])\n"
   ]
  },
  {
   "cell_type": "markdown",
   "id": "fce64b3a",
   "metadata": {},
   "source": [
    "shuffling"
   ]
  },
  {
   "cell_type": "code",
   "execution_count": 136,
   "id": "fb0feec7",
   "metadata": {},
   "outputs": [
    {
     "data": {
      "text/plain": [
       "array([ 17, -51,  91,  -8, -95,  61, -97,  -4,  59,  21,  41, -37,  55,\n",
       "        19, -88,  53, -28,   3,  75,  21], dtype=int32)"
      ]
     },
     "execution_count": 136,
     "metadata": {},
     "output_type": "execute_result"
    }
   ],
   "source": [
    "np.random.permutation(x)"
   ]
  },
  {
   "cell_type": "code",
   "execution_count": null,
   "id": "ad0d6a37",
   "metadata": {},
   "outputs": [
    {
     "data": {
      "text/plain": [
       "array([-95,  61,  21,  75, -51,  59,  19, -37,  -4,  17, -97,  41,  21,\n",
       "        55,  -8, -88,  53, -28,  91,   3], dtype=int32)"
      ]
     },
     "execution_count": 137,
     "metadata": {},
     "output_type": "execute_result"
    }
   ],
   "source": [
    "np.random.shuffle(x)#inplace = true\n",
    "x"
   ]
  }
 ],
 "metadata": {
  "kernelspec": {
   "display_name": ".venv (3.13.7)",
   "language": "python",
   "name": "python3"
  },
  "language_info": {
   "codemirror_mode": {
    "name": "ipython",
    "version": 3
   },
   "file_extension": ".py",
   "mimetype": "text/x-python",
   "name": "python",
   "nbconvert_exporter": "python",
   "pygments_lexer": "ipython3",
   "version": "3.13.7"
  }
 },
 "nbformat": 4,
 "nbformat_minor": 5
}
